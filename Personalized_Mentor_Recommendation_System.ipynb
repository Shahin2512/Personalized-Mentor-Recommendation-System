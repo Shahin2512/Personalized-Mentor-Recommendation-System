{
  "nbformat": 4,
  "nbformat_minor": 0,
  "metadata": {
    "colab": {
      "provenance": [],
      "authorship_tag": "ABX9TyNUe1knWOxi64EVuK0vODE5",
      "include_colab_link": true
    },
    "kernelspec": {
      "name": "python3",
      "display_name": "Python 3"
    },
    "language_info": {
      "name": "python"
    }
  },
  "cells": [
    {
      "cell_type": "markdown",
      "metadata": {
        "id": "view-in-github",
        "colab_type": "text"
      },
      "source": [
        "<a href=\"https://colab.research.google.com/github/Shahin2512/Personalized-Mentor-Recommendation-System/blob/main/Personalized_Mentor_Recommendation_System.ipynb\" target=\"_parent\"><img src=\"https://colab.research.google.com/assets/colab-badge.svg\" alt=\"Open In Colab\"/></a>"
      ]
    },
    {
      "cell_type": "code",
      "execution_count": 1,
      "metadata": {
        "colab": {
          "base_uri": "https://localhost:8080/"
        },
        "id": "DYlD0xcQ062t",
        "outputId": "76166474-b25d-4c18-e4e6-4249e5866734"
      },
      "outputs": [
        {
          "output_type": "stream",
          "name": "stdout",
          "text": [
            "Requirement already satisfied: pandas in /usr/local/lib/python3.11/dist-packages (2.2.2)\n",
            "Requirement already satisfied: scikit-learn in /usr/local/lib/python3.11/dist-packages (1.6.1)\n",
            "Requirement already satisfied: numpy>=1.23.2 in /usr/local/lib/python3.11/dist-packages (from pandas) (2.0.2)\n",
            "Requirement already satisfied: python-dateutil>=2.8.2 in /usr/local/lib/python3.11/dist-packages (from pandas) (2.8.2)\n",
            "Requirement already satisfied: pytz>=2020.1 in /usr/local/lib/python3.11/dist-packages (from pandas) (2025.2)\n",
            "Requirement already satisfied: tzdata>=2022.7 in /usr/local/lib/python3.11/dist-packages (from pandas) (2025.2)\n",
            "Requirement already satisfied: scipy>=1.6.0 in /usr/local/lib/python3.11/dist-packages (from scikit-learn) (1.14.1)\n",
            "Requirement already satisfied: joblib>=1.2.0 in /usr/local/lib/python3.11/dist-packages (from scikit-learn) (1.4.2)\n",
            "Requirement already satisfied: threadpoolctl>=3.1.0 in /usr/local/lib/python3.11/dist-packages (from scikit-learn) (3.6.0)\n",
            "Requirement already satisfied: six>=1.5 in /usr/local/lib/python3.11/dist-packages (from python-dateutil>=2.8.2->pandas) (1.17.0)\n"
          ]
        }
      ],
      "source": [
        "!pip install pandas scikit-learn\n"
      ]
    },
    {
      "cell_type": "code",
      "source": [
        "import pandas as pd\n",
        "import numpy as np\n",
        "from sklearn.metrics.pairwise import cosine_similarity\n",
        "from sklearn.preprocessing import MultiLabelBinarizer\n"
      ],
      "metadata": {
        "id": "qSloJJZ11H9i"
      },
      "execution_count": 2,
      "outputs": []
    },
    {
      "cell_type": "code",
      "source": [
        "mentors = pd.read_csv('mentors_data.csv')\n",
        "aspirants = pd.read_csv('aspirants_data.csv')\n",
        "\n",
        "import ast\n",
        "mentors['preferred_subjects'] = mentors['preferred_subjects'].apply(ast.literal_eval)\n",
        "mentors['target_colleges'] = mentors['target_colleges'].apply(ast.literal_eval)\n",
        "aspirants['preferred_subjects'] = aspirants['preferred_subjects'].apply(ast.literal_eval)\n",
        "aspirants['target_colleges'] = aspirants['target_colleges'].apply(ast.literal_eval)\n"
      ],
      "metadata": {
        "id": "luY2bsyP1Kv9"
      },
      "execution_count": 3,
      "outputs": []
    },
    {
      "cell_type": "code",
      "source": [
        "mlb_subjects = MultiLabelBinarizer()\n",
        "mlb_colleges = MultiLabelBinarizer()\n",
        "learning_styles_dummies = pd.get_dummies(mentors['learning_style'])\n",
        "\n",
        "subject_encoded = mlb_subjects.fit_transform(mentors['preferred_subjects'])\n",
        "college_encoded = mlb_colleges.fit_transform(mentors['target_colleges'])\n",
        "\n",
        "mentor_features = np.hstack([subject_encoded, college_encoded, learning_styles_dummies])\n"
      ],
      "metadata": {
        "id": "wFuBMNLw6cXz"
      },
      "execution_count": 4,
      "outputs": []
    },
    {
      "cell_type": "code",
      "source": [
        "aspirant = aspirants.iloc[0]\n",
        "\n",
        "asp_subjects = mlb_subjects.transform([aspirant['preferred_subjects']])\n",
        "asp_colleges = mlb_colleges.transform([aspirant['target_colleges']])\n",
        "asp_learning = pd.get_dummies(pd.Series([aspirant['learning_style']]))\n",
        "asp_learning = asp_learning.reindex(columns=learning_styles_dummies.columns, fill_value=0)\n",
        "\n",
        "asp_features = np.hstack([asp_subjects, asp_colleges, asp_learning.values])\n"
      ],
      "metadata": {
        "id": "cEZ3nkoX6we5"
      },
      "execution_count": 5,
      "outputs": []
    },
    {
      "cell_type": "code",
      "source": [
        "similarity_scores = cosine_similarity(asp_features, mentor_features).flatten()\n",
        "top_n = 3\n",
        "top_indices = similarity_scores.argsort()[::-1][:top_n]\n",
        "\n",
        "recommended_mentors = mentors.iloc[top_indices][['mentor_id', 'name', 'preferred_subjects', 'target_colleges', 'learning_style']]\n",
        "print(\"Recommended Mentors:\")\n",
        "print(recommended_mentors)\n"
      ],
      "metadata": {
        "colab": {
          "base_uri": "https://localhost:8080/"
        },
        "id": "p3bNmpnY6zrR",
        "outputId": "f395c2e8-3aa0-4f32-b7ee-2740fc7f0f21"
      },
      "execution_count": 6,
      "outputs": [
        {
          "output_type": "stream",
          "name": "stdout",
          "text": [
            "Recommended Mentors:\n",
            "    mentor_id      name        preferred_subjects  \\\n",
            "16         17  Mentor Q    [Logical, Legal, Math]   \n",
            "15         16  Mentor P  [Math, Logical, English]   \n",
            "0           1  Mentor A    [Legal, Math, English]   \n",
            "\n",
            "                   target_colleges learning_style  \n",
            "16               [NLSIU Bangalore]       Auditory  \n",
            "15  [NLU Jodhpur, NLSIU Bangalore]       Auditory  \n",
            "0   [NLSIU Bangalore, NLU Kolkata]       Auditory  \n"
          ]
        }
      ]
    },
    {
      "cell_type": "code",
      "source": [
        "# Simulated feedback (1 = liked, 0 = disliked)\n",
        "feedback = pd.Series([1, 0, 1])\n",
        "\n",
        "\n",
        "feedback_df = pd.DataFrame({\n",
        "    'mentor': recommended_mentors['name'].values,\n",
        "    'similarity': similarity_scores[top_indices],\n",
        "    'feedback': feedback\n",
        "})\n",
        "\n",
        "print(\"\\nFeedback Analysis:\")\n",
        "print(feedback_df)\n",
        "\n",
        "print(\"\\nAverage similarity for liked mentors:\", feedback_df[feedback_df['feedback'] == 1]['similarity'].mean())\n",
        "print(\"Average similarity for disliked mentors:\", feedback_df[feedback_df['feedback'] == 0]['similarity'].mean())\n"
      ],
      "metadata": {
        "colab": {
          "base_uri": "https://localhost:8080/"
        },
        "id": "ACBase3a62DS",
        "outputId": "66bfe773-832c-449a-9d52-adb65d3d7765"
      },
      "execution_count": 7,
      "outputs": [
        {
          "output_type": "stream",
          "name": "stdout",
          "text": [
            "\n",
            "Feedback Analysis:\n",
            "     mentor  similarity  feedback\n",
            "0  Mentor Q    0.800000         1\n",
            "1  Mentor P    0.730297         0\n",
            "2  Mentor A    0.730297         1\n",
            "\n",
            "Average similarity for liked mentors: 0.7651483716701107\n",
            "Average similarity for disliked mentors: 0.7302967433402215\n"
          ]
        }
      ]
    }
  ]
}